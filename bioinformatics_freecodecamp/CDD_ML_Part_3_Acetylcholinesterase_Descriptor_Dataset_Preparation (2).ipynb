{
 "cells": [
  {
   "cell_type": "markdown",
   "metadata": {
    "colab_type": "text",
    "id": "l0Y7_lgN4jzM"
   },
   "source": [
    "# **Bioinformatics Project - Computational Drug Discovery [Part 3] Descriptor Calculation and Dataset Preparation**\n",
    "\n",
    "Chanin Nantasenamat\n",
    "\n",
    "[*'Data Professor' YouTube channel*](http://youtube.com/dataprofessor)\n",
    "\n",
    "In this Jupyter notebook, we will be building a real-life **data science project** that you can include in your **data science portfolio**. Particularly, we will be building a machine learning model using the ChEMBL bioactivity data.\n",
    "\n",
    "In **Part 3**, we will be calculating molecular descriptors that are essentially quantitative description of the compounds in the dataset. Finally, we will be preparing this into a dataset for subsequent model building in Part 4.\n",
    "\n",
    "---"
   ]
  },
  {
   "cell_type": "code",
   "execution_count": 1,
   "metadata": {},
   "outputs": [
    {
     "name": "stdout",
     "output_type": "stream",
     "text": [
      "C:\\Users\\uddin\\Documents\\bioinformatics_freecodecamp\n"
     ]
    }
   ],
   "source": [
    "import os\n",
    "print(os.getcwd())"
   ]
  },
  {
   "cell_type": "code",
   "execution_count": 2,
   "metadata": {},
   "outputs": [
    {
     "name": "stdout",
     "output_type": "stream",
     "text": [
      "Files in current directory:\n",
      "['.git', '.gitignore', '.ipynb_checkpoints', 'acetylcholinesterase_01_bioactivity_data_raw.csv', 'acetylcholinesterase_02_bioactivity_data_preprocessed.csv', 'acetylcholinesterase_03_bioactivity_data_curated.csv', 'acetylcholinesterase_04_bioactivity_data_3class_pIC50.csv', 'acetylcholinesterase_05_bioactivity_data_2class_pIC50.csv', 'acetylcholinesterase_06_bioactivity_data_3class_pIC50_pubchem_fp.csv', 'acetylcholinesterase_07_bioactivity_data_2class_pIC50_pubchem_fp.csv', 'anaconda_projects', 'CDD_ML_Part_1_Acetylcholinesterase_Bioactivity_Data_Concised.ipynb', 'CDD_ML_Part_3_Acetylcholinesterase_Descriptor_Dataset_Preparation.ipynb', 'CDD_ML_Part_4_Acetylcholinesterase_Regression_Random_Forest.ipynb', 'CDD_ML_Part_5_Acetylcholinesterase_Compare_Regressors.ipynb', 'mannwhitneyu_LogP.csv', 'mannwhitneyu_MW.csv', 'mannwhitneyu_NumHAcceptors.csv', 'mannwhitneyu_NumHDonors.csv', 'mannwhitneyu_pIC50.csv', 'molecule.smi', 'plot_bioactivity_class.pdf', 'plot_ic50.pdf', 'plot_LogP.pdf', 'plot_MW.pdf', 'plot_MW_vs_LogP.pdf', 'plot_NumHAcceptors.pdf', 'plot_NumHDonors.pdf', 'README.md']\n"
     ]
    }
   ],
   "source": [
    "import os\n",
    "\n",
    "print(\"Files in current directory:\")\n",
    "print(os.listdir())"
   ]
  },
  {
   "cell_type": "code",
   "execution_count": 3,
   "metadata": {},
   "outputs": [
    {
     "name": "stdout",
     "output_type": "stream",
     "text": [
      "📂 Changed working directory to: C:\\Users\\uddin\\Documents\\first_repo\\bioinformatics_freecodecamp\n"
     ]
    }
   ],
   "source": [
    "os.chdir(r\"C:\\Users\\uddin\\Documents\\first_repo\\bioinformatics_freecodecamp\")\n",
    "print(\"📂 Changed working directory to:\", os.getcwd())"
   ]
  },
  {
   "cell_type": "code",
   "execution_count": 4,
   "metadata": {
    "colab": {
     "base_uri": "https://localhost:8080/",
     "height": 572
    },
    "colab_type": "code",
    "id": "H0mjQ2PcrSe5",
    "outputId": "7cd24f88-a9b5-445e-90fc-a2bde1f2aef8"
   },
   "outputs": [
    {
     "name": "stdout",
     "output_type": "stream",
     "text": [
      "✅ Downloaded: padel.zip\n",
      "✅ Downloaded: padel.sh\n"
     ]
    }
   ],
   "source": [
    "import requests\n",
    "\n",
    "# Download padel.zip\n",
    "url_zip = \"https://github.com/dataprofessor/bioinformatics/raw/master/padel.zip\"\n",
    "zip_filename = \"padel.zip\"\n",
    "r = requests.get(url_zip)\n",
    "with open(zip_filename, \"wb\") as f:\n",
    "    f.write(r.content)\n",
    "print(f\"✅ Downloaded: {zip_filename}\")\n",
    "\n",
    "# Download padel.sh\n",
    "url_sh = \"https://github.com/dataprofessor/bioinformatics/raw/master/padel.sh\"\n",
    "sh_filename = \"padel.sh\"\n",
    "r = requests.get(url_sh)\n",
    "with open(sh_filename, \"wb\") as f:\n",
    "    f.write(r.content)\n",
    "print(f\"✅ Downloaded: {sh_filename}\")"
   ]
  },
  {
   "cell_type": "markdown",
   "metadata": {
    "colab_type": "text",
    "id": "o-4IOizard4P"
   },
   "source": [
    "## **Download PaDEL-Descriptor**"
   ]
  },
  {
   "cell_type": "code",
   "execution_count": 5,
   "metadata": {
    "colab": {
     "base_uri": "https://localhost:8080/",
     "height": 1000
    },
    "colab_type": "code",
    "id": "64HnTL4tS-nA",
    "outputId": "b082c979-db9f-48dd-8050-0462b6cf4979"
   },
   "outputs": [
    {
     "name": "stdout",
     "output_type": "stream",
     "text": [
      "✅ padelpy installed\n"
     ]
    }
   ],
   "source": [
    "# ✅ Install and use padelpy (no ZIP needed)\n",
    "import sys, subprocess\n",
    "subprocess.check_call([sys.executable, \"-m\", \"pip\", \"install\", \"padelpy\"])\n",
    "\n",
    "print(\"✅ padelpy installed\")"
   ]
  },
  {
   "cell_type": "code",
   "execution_count": 7,
   "metadata": {},
   "outputs": [
    {
     "ename": "ReferenceError",
     "evalue": "Java JRE 6+ not found (required for PaDEL-Descriptor)",
     "output_type": "error",
     "traceback": [
      "\u001b[1;31m---------------------------------------------------------------------------\u001b[0m",
      "\u001b[1;31mReferenceError\u001b[0m                            Traceback (most recent call last)",
      "Cell \u001b[1;32mIn[7], line 7\u001b[0m\n\u001b[0;32m      4\u001b[0m \u001b[38;5;66;03m# point to molecule.smi (should be in the same folder as your notebook)\u001b[39;00m\n\u001b[0;32m      5\u001b[0m smi_file \u001b[38;5;241m=\u001b[39m os\u001b[38;5;241m.\u001b[39mpath\u001b[38;5;241m.\u001b[39mjoin(os\u001b[38;5;241m.\u001b[39mgetcwd(), \u001b[38;5;124m\"\u001b[39m\u001b[38;5;124mmolecule.smi\u001b[39m\u001b[38;5;124m\"\u001b[39m)\n\u001b[1;32m----> 7\u001b[0m padeldescriptor(\n\u001b[0;32m      8\u001b[0m     mol_dir\u001b[38;5;241m=\u001b[39msmi_file,\n\u001b[0;32m      9\u001b[0m     d_file\u001b[38;5;241m=\u001b[39m\u001b[38;5;124m\"\u001b[39m\u001b[38;5;124mdescriptors_output.csv\u001b[39m\u001b[38;5;124m\"\u001b[39m,\n\u001b[0;32m     10\u001b[0m     fingerprints\u001b[38;5;241m=\u001b[39m\u001b[38;5;28;01mTrue\u001b[39;00m\n\u001b[0;32m     11\u001b[0m )\n\u001b[0;32m     13\u001b[0m \u001b[38;5;28mprint\u001b[39m(\u001b[38;5;124m\"\u001b[39m\u001b[38;5;124m✅ descriptors_output.csv created\u001b[39m\u001b[38;5;124m\"\u001b[39m)\n\u001b[0;32m     14\u001b[0m \u001b[38;5;28mprint\u001b[39m(\u001b[38;5;124m\"\u001b[39m\u001b[38;5;124m📄 Files:\u001b[39m\u001b[38;5;124m\"\u001b[39m, os\u001b[38;5;241m.\u001b[39mlistdir())\n",
      "File \u001b[1;32m~\\anaconda3\\Lib\\site-packages\\padelpy\\wrapper.py:119\u001b[0m, in \u001b[0;36mpadeldescriptor\u001b[1;34m(maxruntime, waitingjobs, threads, d_2d, d_3d, config, convert3d, descriptortypes, detectaromaticity, mol_dir, d_file, fingerprints, log, maxcpdperfile, removesalt, retain3d, retainorder, standardizenitro, standardizetautomers, tautomerlist, usefilenameasmolname, sp_timeout, headless)\u001b[0m\n\u001b[0;32m     76\u001b[0m \u001b[38;5;250m\u001b[39m\u001b[38;5;124;03m\"\"\"padeldescriptor: complete wrapper for PaDEL-Descriptor descriptor/\u001b[39;00m\n\u001b[0;32m     77\u001b[0m \u001b[38;5;124;03mfingerprint generation software\u001b[39;00m\n\u001b[0;32m     78\u001b[0m \n\u001b[1;32m   (...)\u001b[0m\n\u001b[0;32m    115\u001b[0m \u001b[38;5;124;03m    None\u001b[39;00m\n\u001b[0;32m    116\u001b[0m \u001b[38;5;124;03m\"\"\"\u001b[39;00m\n\u001b[0;32m    118\u001b[0m \u001b[38;5;28;01mif\u001b[39;00m which(\u001b[38;5;124m'\u001b[39m\u001b[38;5;124mjava\u001b[39m\u001b[38;5;124m'\u001b[39m) \u001b[38;5;129;01mis\u001b[39;00m \u001b[38;5;28;01mNone\u001b[39;00m:\n\u001b[1;32m--> 119\u001b[0m     \u001b[38;5;28;01mraise\u001b[39;00m \u001b[38;5;167;01mReferenceError\u001b[39;00m(\n\u001b[0;32m    120\u001b[0m         \u001b[38;5;124m'\u001b[39m\u001b[38;5;124mJava JRE 6+ not found (required for PaDEL-Descriptor)\u001b[39m\u001b[38;5;124m'\u001b[39m\n\u001b[0;32m    121\u001b[0m     )\n\u001b[0;32m    122\u001b[0m \u001b[38;5;28;01mif\u001b[39;00m headless:\n\u001b[0;32m    123\u001b[0m     command \u001b[38;5;241m=\u001b[39m \u001b[38;5;124m'\u001b[39m\u001b[38;5;124mjava -Djava.awt.headless=true -jar \u001b[39m\u001b[38;5;132;01m{}\u001b[39;00m\u001b[38;5;124m'\u001b[39m\u001b[38;5;241m.\u001b[39mformat(_PADEL_PATH)\n",
      "\u001b[1;31mReferenceError\u001b[0m: Java JRE 6+ not found (required for PaDEL-Descriptor)"
     ]
    }
   ],
   "source": [
    "from padelpy import padeldescriptor\n",
    "import os\n",
    "\n",
    "smi_file = os.path.join(os.getcwd(), \"molecule.smi\")\n",
    "\n",
    "padeldescriptor(\n",
    "    mol_dir=smi_file,\n",
    "    d_file=\"descriptors_output.csv\",\n",
    "    fingerprints=True\n",
    ")\n",
    "\n",
    "print(\"✅ descriptors_output.csv created\")\n",
    "print(\"📄 Files:\", os.listdir())"
   ]
  },
  {
   "cell_type": "code",
   "execution_count": null,
   "metadata": {},
   "outputs": [],
   "source": [
    "import pandas as pd\n",
    "df3_X = pd.read_csv(\"descriptors_output.csv\")\n",
    "df3_X.head()"
   ]
  },
  {
   "cell_type": "markdown",
   "metadata": {
    "colab_type": "text",
    "id": "QmxXXFa4wTNG"
   },
   "source": [
    "## **Load bioactivity data**"
   ]
  },
  {
   "cell_type": "markdown",
   "metadata": {
    "colab_type": "text",
    "id": "fcBvxkPWKFRV"
   },
   "source": [
    "Download the curated ChEMBL bioactivity data that has been pre-processed from Parts 1 and 2 of this Bioinformatics Project series. Here we will be using the **bioactivity_data_3class_pIC50.csv** file that essentially contain the pIC50 values that we will be using for building a regression model."
   ]
  },
  {
   "cell_type": "code",
   "execution_count": null,
   "metadata": {
    "colab": {
     "base_uri": "https://localhost:8080/",
     "height": 208
    },
    "colab_type": "code",
    "id": "JBs7QdJoubWC",
    "outputId": "3d6bfdcd-1eb9-4930-8e43-45d217f7d22b"
   },
   "outputs": [],
   "source": [
    "import requests\n",
    "\n",
    "url = \"https://raw.githubusercontent.com/dataprofessor/data/master/acetylcholinesterase_04_bioactivity_data_3class_pIC50.csv\"\n",
    "filename = \"acetylcholinesterase_04_bioactivity_data_3class_pIC50.csv\"\n",
    "\n",
    "r = requests.get(url)\n",
    "with open(filename, \"wb\") as f:\n",
    "    f.write(r.content)\n",
    "\n",
    "print(f\"✅ Downloaded dataset: {filename}\")"
   ]
  },
  {
   "cell_type": "code",
   "execution_count": null,
   "metadata": {
    "colab": {},
    "colab_type": "code",
    "id": "Fpu5C7HlwV9s"
   },
   "outputs": [],
   "source": [
    "import pandas as pd"
   ]
  },
  {
   "cell_type": "code",
   "execution_count": null,
   "metadata": {
    "colab": {},
    "colab_type": "code",
    "id": "GCcE8J5XwjtB"
   },
   "outputs": [],
   "source": [
    "import os\n",
    "\n",
    "# If the file was downloaded in the same folder as the notebook:\n",
    "df3 = pd.read_csv('acetylcholinesterase_04_bioactivity_data_3class_pIC50.csv')\n",
    "\n",
    "# If that fails, uncomment the line below and use the absolute path instead:\n",
    "# df3 = pd.read_csv(r\"C:\\Users\\uddin\\Documents\\first_repo\\bioinformatics_freecodecamp\\acetylcholinesterase_04_bioactivity_data_3class_pIC50.csv\")\n",
    "\n",
    "print(\"✅ File loaded successfully\")\n",
    "df3.head()"
   ]
  },
  {
   "cell_type": "code",
   "execution_count": null,
   "metadata": {
    "colab": {
     "base_uri": "https://localhost:8080/",
     "height": 467
    },
    "colab_type": "code",
    "id": "60z_N6egNiSJ",
    "outputId": "4419acc9-ced7-4a45-b849-665ed5e0fd99"
   },
   "outputs": [],
   "source": [
    "df3"
   ]
  },
  {
   "cell_type": "code",
   "execution_count": null,
   "metadata": {
    "colab": {},
    "colab_type": "code",
    "id": "BJDJkY43R-9F"
   },
   "outputs": [],
   "source": [
    "selection = ['canonical_smiles','molecule_chembl_id']\n",
    "df3_selection = df3[selection]\n",
    "df3_selection.to_csv('molecule.smi', sep='\\t', index=False, header=False)"
   ]
  },
  {
   "cell_type": "code",
   "execution_count": null,
   "metadata": {
    "colab": {
     "base_uri": "https://localhost:8080/",
     "height": 104
    },
    "colab_type": "code",
    "id": "nRSCoPVDSkf5",
    "outputId": "2be43c1d-d8b8-42a8-93fc-4c1b29855a8a"
   },
   "outputs": [],
   "source": [
    "# Show first 5 lines of molecule.smi\n",
    "with open(\"molecule.smi\", \"r\") as f:\n",
    "    for i in range(5):\n",
    "        print(f.readline().strip())"
   ]
  },
  {
   "cell_type": "code",
   "execution_count": null,
   "metadata": {
    "colab": {
     "base_uri": "https://localhost:8080/",
     "height": 35
    },
    "colab_type": "code",
    "id": "GlYaJ9pzUGjS",
    "outputId": "6dab2be5-172a-4efb-8b42-7ceef402bfa3"
   },
   "outputs": [],
   "source": [
    "# Count total lines in molecule.smi\n",
    "with open(\"molecule.smi\", \"r\") as f:\n",
    "    count = sum(1 for _ in f)\n",
    "print(f\"📄 Total lines in molecule.smi: {count}\")"
   ]
  },
  {
   "cell_type": "markdown",
   "metadata": {
    "colab_type": "text",
    "id": "YzN_S4Quro5S"
   },
   "source": [
    "## **Calculate fingerprint descriptors**\n"
   ]
  },
  {
   "cell_type": "markdown",
   "metadata": {
    "colab_type": "text",
    "id": "JsgTV-ByxdMa"
   },
   "source": [
    "### **Calculate PaDEL descriptors**"
   ]
  },
  {
   "cell_type": "code",
   "execution_count": null,
   "metadata": {
    "colab": {
     "base_uri": "https://localhost:8080/",
     "height": 55
    },
    "colab_type": "code",
    "id": "hSCopQvEiSMj",
    "outputId": "77fe3614-69ef-4bd1-9dca-2a9b2c975fbb"
   },
   "outputs": [],
   "source": [
    "# Print padel.sh file contents\n",
    "with open(\"padel.sh\", \"r\") as f:\n",
    "    print(f.read())"
   ]
  },
  {
   "cell_type": "code",
   "execution_count": null,
   "metadata": {
    "colab": {
     "base_uri": "https://localhost:8080/",
     "height": 1000
    },
    "colab_type": "code",
    "id": "6kN9jrGpS5nE",
    "outputId": "456a4161-b3dd-44b9-bc82-2523976f25ea"
   },
   "outputs": [],
   "source": [
    "import subprocess\n",
    "import os\n",
    "\n",
    "padel_dir = os.path.join(os.getcwd(), \"padel\")\n",
    "cmd = [\n",
    "    \"java\",\n",
    "    \"-Xms2G\",\n",
    "    \"-Xmx2G\",\n",
    "    \"-Djava.awt.headless=true\",\n",
    "    \"-jar\",\n",
    "    os.path.join(padel_dir, \"PaDEL-Descriptor.jar\"),\n",
    "    \"-removesalt\",\n",
    "    \"-standardizenitro\",\n",
    "    \"-fingerprints\",\n",
    "    \"-descriptortypes\",\n",
    "    os.path.join(padel_dir, \"PubchemFingerprinter.xml\"),\n",
    "    \"-dir\",\n",
    "    os.getcwd(),\n",
    "    \"-file\",\n",
    "    \"descriptors_output.csv\"\n",
    "]\n",
    "\n",
    "subprocess.run(cmd)"
   ]
  },
  {
   "cell_type": "code",
   "execution_count": null,
   "metadata": {
    "colab": {
     "base_uri": "https://localhost:8080/",
     "height": 173
    },
    "colab_type": "code",
    "id": "2p7rAVy_k_hH",
    "outputId": "7404029f-4d69-486c-97a2-faf6d4574971"
   },
   "outputs": [],
   "source": [
    "!dir"
   ]
  },
  {
   "cell_type": "markdown",
   "metadata": {
    "colab_type": "text",
    "id": "gUMlPfFrxicj"
   },
   "source": [
    "## **Preparing the X and Y Data Matrices**"
   ]
  },
  {
   "cell_type": "markdown",
   "metadata": {
    "colab_type": "text",
    "id": "30aa4WP4ZA8M"
   },
   "source": [
    "### **X data matrix**"
   ]
  },
  {
   "cell_type": "code",
   "execution_count": null,
   "metadata": {
    "colab": {},
    "colab_type": "code",
    "id": "3g319qxVl7tY",
    "scrolled": true
   },
   "outputs": [],
   "source": [
    "import pandas as pd\n",
    "import os\n",
    "\n",
    "print(os.listdir())  # check if file exists in working dir\n",
    "\n",
    "df3_X = pd.read_csv('descriptors_output.csv')\n",
    "print(\"✅ descriptors_output.csv loaded\")\n",
    "df3_X.head()"
   ]
  },
  {
   "cell_type": "code",
   "execution_count": null,
   "metadata": {
    "colab": {
     "base_uri": "https://localhost:8080/",
     "height": 435
    },
    "colab_type": "code",
    "id": "hBp1PTObFQDd",
    "outputId": "26a4603a-d1b2-4d64-e1c8-cf5fd0612bbf"
   },
   "outputs": [],
   "source": [
    "df3_X"
   ]
  },
  {
   "cell_type": "code",
   "execution_count": null,
   "metadata": {
    "colab": {
     "base_uri": "https://localhost:8080/",
     "height": 435
    },
    "colab_type": "code",
    "id": "dTJsDPBKq_hr",
    "outputId": "c92c4d7d-6df7-40b0-a7b8-ce644bacb52a"
   },
   "outputs": [],
   "source": [
    "if 'Name' in df3_X.columns:\n",
    "    df3_X = df3_X.drop(columns=['Name'])\n",
    "    print(\"✅ Dropped column: Name\")\n",
    "else:\n",
    "    print(\"⚠️ Column 'Name' not found — skipping\")\n",
    "\n",
    "df3_X.head()"
   ]
  },
  {
   "cell_type": "markdown",
   "metadata": {
    "colab_type": "text",
    "id": "6ePu814KZNBG"
   },
   "source": [
    "## **Y variable**"
   ]
  },
  {
   "cell_type": "markdown",
   "metadata": {
    "colab_type": "text",
    "id": "9ssfxFCdr7ua"
   },
   "source": [
    "### **Convert IC50 to pIC50**"
   ]
  },
  {
   "cell_type": "code",
   "execution_count": null,
   "metadata": {
    "colab": {
     "base_uri": "https://localhost:8080/",
     "height": 225
    },
    "colab_type": "code",
    "id": "FlhsSEW5FXTG",
    "outputId": "ef224d6b-4cf3-4bde-fe83-d2e43f6e246c"
   },
   "outputs": [],
   "source": [
    "df3_Y = df3['pIC50']\n",
    "df3_Y"
   ]
  },
  {
   "cell_type": "markdown",
   "metadata": {
    "colab_type": "text",
    "id": "eET6iZ1Aw3oe"
   },
   "source": [
    "## **Combining X and Y variable**"
   ]
  },
  {
   "cell_type": "code",
   "execution_count": null,
   "metadata": {
    "colab": {
     "base_uri": "https://localhost:8080/",
     "height": 435
    },
    "colab_type": "code",
    "id": "FRBfBP3QxFJp",
    "outputId": "ee900c26-ff5c-4e20-a3fb-7b1f9367db66"
   },
   "outputs": [],
   "source": [
    "dataset3 = pd.concat([df3_X, df3_Y], axis=1)\n",
    "dataset3.head()"
   ]
  },
  {
   "cell_type": "code",
   "execution_count": null,
   "metadata": {
    "colab": {},
    "colab_type": "code",
    "id": "75npGyvhae0e"
   },
   "outputs": [],
   "source": [
    "dataset3.to_csv('acetylcholinesterase_06_bioactivity_data_3class_pIC50_pubchem_fp.csv', index=False)\n",
    "print(\"✅ File saved successfully\")"
   ]
  },
  {
   "cell_type": "markdown",
   "metadata": {
    "colab_type": "text",
    "id": "nFpLoNRHeRa6"
   },
   "source": [
    "# **Let's download the CSV file to your local computer for the Part 3B (Model Building).**"
   ]
  },
  {
   "cell_type": "code",
   "execution_count": null,
   "metadata": {},
   "outputs": [],
   "source": []
  }
 ],
 "metadata": {
  "colab": {
   "collapsed_sections": [],
   "name": "CDD-ML-Part-3-Acetylcholinesterase-Descriptor-Dataset-Preparation.ipynb",
   "provenance": []
  },
  "kernelspec": {
   "display_name": "Python [conda env:base] *",
   "language": "python",
   "name": "conda-base-py"
  },
  "language_info": {
   "codemirror_mode": {
    "name": "ipython",
    "version": 3
   },
   "file_extension": ".py",
   "mimetype": "text/x-python",
   "name": "python",
   "nbconvert_exporter": "python",
   "pygments_lexer": "ipython3",
   "version": "3.13.5"
  }
 },
 "nbformat": 4,
 "nbformat_minor": 4
}
