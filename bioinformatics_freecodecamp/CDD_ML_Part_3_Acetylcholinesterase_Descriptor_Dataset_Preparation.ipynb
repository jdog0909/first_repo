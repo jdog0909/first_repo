{
 "cells": [
  {
   "cell_type": "markdown",
   "metadata": {
    "colab_type": "text",
    "id": "l0Y7_lgN4jzM"
   },
   "source": [
    "# **Bioinformatics Project - Computational Drug Discovery [Part 3] Descriptor Calculation and Dataset Preparation**\n",
    "\n",
    "Chanin Nantasenamat\n",
    "\n",
    "[*'Data Professor' YouTube channel*](http://youtube.com/dataprofessor)\n",
    "\n",
    "In this Jupyter notebook, we will be building a real-life **data science project** that you can include in your **data science portfolio**. Particularly, we will be building a machine learning model using the ChEMBL bioactivity data.\n",
    "\n",
    "In **Part 3**, we will be calculating molecular descriptors that are essentially quantitative description of the compounds in the dataset. Finally, we will be preparing this into a dataset for subsequent model building in Part 4.\n",
    "\n",
    "---"
   ]
  },
  {
   "cell_type": "code",
   "execution_count": 1,
   "metadata": {},
   "outputs": [
    {
     "name": "stdout",
     "output_type": "stream",
     "text": [
      "C:\\Users\\uddin\\Documents\\bioinformatics_freecodecamp\n"
     ]
    }
   ],
   "source": [
    "import os\n",
    "\n",
    "# CHANGE THIS ONLY if your repo lives somewhere else\n",
    "REPO_DIR = r\"C:\\Users\\uddin\\Documents\\first_repo\\bioinformatics_freecodecamp\"\n",
    "\n",
    "os.chdir(REPO_DIR)\n",
    "print(\"📂 Working directory set to:\", os.getcwd())\n",
    "print(\"📄 Files here now:\", os.listdir())"
   ]
  },
  {
   "cell_type": "code",
   "execution_count": 2,
   "metadata": {},
   "outputs": [
    {
     "name": "stdout",
     "output_type": "stream",
     "text": [
      "C:\\Users\\uddin\\anaconda3\\python.exe\n"
     ]
    }
   ],
   "source": [
    "import sys, subprocess\n",
    "\n",
    "def pip_install(pkg):\n",
    "    subprocess.check_call([sys.executable, \"-m\", \"pip\", \"install\", \"--quiet\", pkg])\n",
    "\n",
    "for pkg in [\"pandas\", \"requests\", \"padelpy\"]:\n",
    "    pip_install(pkg)\n",
    "\n",
    "import pandas as pd\n",
    "import requests\n",
    "from padelpy import padeldescriptor\n",
    "\n",
    "print(\"✅ pandas/requests/padelpy ready\")"
   ]
  },
  {
   "cell_type": "code",
   "execution_count": 3,
   "metadata": {},
   "outputs": [
    {
     "name": "stdout",
     "output_type": "stream",
     "text": [
      "✅ requests is installed and working\n"
     ]
    }
   ],
   "source": [
    "import shutil, subprocess\n",
    "\n",
    "java_path = shutil.which(\"java\")\n",
    "print(\"🔎 Java path seen by Jupyter:\", java_path)\n",
    "\n",
    "if java_path is None:\n",
    "    raise SystemExit(\"❌ Java not found in PATH for Jupyter.\\n\"\n",
    "                     \"Fix: Add your Java bin folder to PATH, then restart Jupyter launched from CMD.\\n\"\n",
    "                     \"Example PATH: C:\\\\Program Files\\\\Eclipse Adoptium\\\\jdk-17.x.x\\\\bin\")\n",
    "\n",
    "# Show version (Java prints version to stderr typically)\n",
    "ver = subprocess.run([\"java\", \"-version\"], capture_output=True, text=True)\n",
    "print(ver.stderr or ver.stdout)\n",
    "print(\"✅ Java available\")"
   ]
  },
  {
   "cell_type": "code",
   "execution_count": 4,
   "metadata": {},
   "outputs": [
    {
     "name": "stdout",
     "output_type": "stream",
     "text": [
      "Files in current directory:\n",
      "['.git', '.gitignore', '.ipynb_checkpoints', 'acetylcholinesterase_01_bioactivity_data_raw.csv', 'acetylcholinesterase_02_bioactivity_data_preprocessed.csv', 'acetylcholinesterase_03_bioactivity_data_curated.csv', 'acetylcholinesterase_04_bioactivity_data_3class_pIC50.csv', 'acetylcholinesterase_05_bioactivity_data_2class_pIC50.csv', 'acetylcholinesterase_06_bioactivity_data_3class_pIC50_pubchem_fp.csv', 'acetylcholinesterase_07_bioactivity_data_2class_pIC50_pubchem_fp.csv', 'anaconda_projects', 'CDD_ML_Part_1_Acetylcholinesterase_Bioactivity_Data_Concised.ipynb', 'CDD_ML_Part_3_Acetylcholinesterase_Descriptor_Dataset_Preparation.ipynb', 'CDD_ML_Part_4_Acetylcholinesterase_Regression_Random_Forest.ipynb', 'CDD_ML_Part_5_Acetylcholinesterase_Compare_Regressors.ipynb', 'descriptors_output.csv', 'mannwhitneyu_LogP.csv', 'mannwhitneyu_MW.csv', 'mannwhitneyu_NumHAcceptors.csv', 'mannwhitneyu_NumHDonors.csv', 'mannwhitneyu_pIC50.csv', 'molecule.smi', 'padel.sh', 'padel.zip', 'plot_bioactivity_class.pdf', 'plot_ic50.pdf', 'plot_LogP.pdf', 'plot_MW.pdf', 'plot_MW_vs_LogP.pdf', 'plot_NumHAcceptors.pdf', 'plot_NumHDonors.pdf', 'README.md']\n"
     ]
    }
   ],
   "source": [
    "import os, requests\n",
    "\n",
    "DATA_URL = \"https://raw.githubusercontent.com/dataprofessor/data/master/acetylcholinesterase_04_bioactivity_data_3class_pIC50.csv\"\n",
    "DATA_CSV = \"acetylcholinesterase_04_bioactivity_data_3class_pIC50.csv\"\n",
    "\n",
    "if not os.path.exists(DATA_CSV):\n",
    "    print(\"⬇️ Downloading dataset …\")\n",
    "    r = requests.get(DATA_URL)\n",
    "    r.raise_for_status()\n",
    "    with open(DATA_CSV, \"wb\") as f:\n",
    "        f.write(r.content)\n",
    "    print(\"✅ Downloaded:\", DATA_CSV)\n",
    "else:\n",
    "    print(\"✅ Already present:\", DATA_CSV)"
   ]
  },
  {
   "cell_type": "code",
   "execution_count": 5,
   "metadata": {},
   "outputs": [
    {
     "name": "stdout",
     "output_type": "stream",
     "text": [
      "📂 Changed working directory to: C:\\Users\\uddin\\Documents\\first_repo\\bioinformatics_freecodecamp\n"
     ]
    }
   ],
   "source": [
    "import pandas as pd\n",
    "\n",
    "df_source = pd.read_csv(\"acetylcholinesterase_04_bioactivity_data_3class_pIC50.csv\")\n",
    "\n",
    "# Normalize likely column names across tutorial variants\n",
    "cols = {c.lower(): c for c in df_source.columns}\n",
    "\n",
    "# Try to discover SMILES + ID columns\n",
    "smiles_col = None\n",
    "for cand in [\"canonical_smiles\", \"smiles\", \"molecule_smiles\"]:\n",
    "    if cand in cols:\n",
    "        smiles_col = cols[cand]\n",
    "        break\n",
    "\n",
    "id_col = None\n",
    "for cand in [\"molecule_chembl_id\", \"chembl_id\", \"name\", \"compound_name\", \"molecule_id\", \"id\"]:\n",
    "    if cand in cols:\n",
    "        id_col = cols[cand]\n",
    "        break\n",
    "\n",
    "# Fallbacks if not found\n",
    "if smiles_col is None:\n",
    "    raise SystemExit(\"❌ Could not find a SMILES column in the dataset. \"\n",
    "                     \"Expected one of: canonical_smiles/smiles/molecule_smiles.\")\n",
    "if id_col is None:\n",
    "    # Create a stable ID from index if no obvious ID col\n",
    "    id_col = \"__generated_name__\"\n",
    "    df_source[id_col] = [f\"MOL_{i:06d}\" for i in range(len(df_source))]\n",
    "\n",
    "print(\"✅ Using columns → SMILES:\", smiles_col, \"| NAME:\", id_col)\n",
    "df_source[[smiles_col, id_col]].head()"
   ]
  },
  {
   "cell_type": "code",
   "execution_count": 6,
   "metadata": {
    "colab": {
     "base_uri": "https://localhost:8080/",
     "height": 572
    },
    "colab_type": "code",
    "id": "H0mjQ2PcrSe5",
    "outputId": "7cd24f88-a9b5-445e-90fc-a2bde1f2aef8"
   },
   "outputs": [
    {
     "name": "stdout",
     "output_type": "stream",
     "text": [
      "✅ Downloaded: padel.zip\n",
      "✅ Downloaded: padel.sh\n"
     ]
    }
   ],
   "source": [
    "SMI_FILE = \"molecule.smi\"\n",
    "\n",
    "with open(SMI_FILE, \"w\", encoding=\"utf-8\") as f:\n",
    "    for smi, name in zip(df_source[smiles_col], df_source[id_col]):\n",
    "        if pd.notna(smi) and pd.notna(name):\n",
    "            f.write(f\"{smi} {str(name).strip()}\\n\")\n",
    "\n",
    "print(f\"✅ Wrote {SMI_FILE} with {sum(1 for _ in open(SMI_FILE, 'r', encoding='utf-8'))} lines\")"
   ]
  },
  {
   "cell_type": "markdown",
   "metadata": {
    "colab_type": "text",
    "id": "o-4IOizard4P"
   },
   "source": [
    "## **Download PaDEL-Descriptor**"
   ]
  },
  {
   "cell_type": "code",
   "execution_count": 7,
   "metadata": {},
   "outputs": [
    {
     "name": "stdout",
     "output_type": "stream",
     "text": [
      "C:\\Program Files\\Eclipse Adoptium\\jdk-25.0.0.36-hotspot\\bin\\java.EXE\n"
     ]
    }
   ],
   "source": [
    "from padelpy import padeldescriptor\n",
    "import os, shutil, sys, subprocess\n",
    "\n",
    "# Verify Java availability\n",
    "java_path = shutil.which(\"java\")\n",
    "if not java_path:\n",
    "    print(\"⚠️ Java not found in PATH. Attempting to locate manually...\")\n",
    "    possible_path = r\"C:\\Program Files\\Eclipse Adoptium\\jdk-25\\bin\"\n",
    "    if os.path.exists(possible_path):\n",
    "        os.environ[\"PATH\"] += os.pathsep + possible_path\n",
    "        print(\"✅ Added Java to PATH temporarily.\")\n",
    "    else:\n",
    "        sys.exit(\"❌ Java not found. Please install JRE 8+ or update PATH.\")\n",
    "\n",
    "# Confirm Java version\n",
    "print(\"🧠 Using Java from:\", shutil.which(\"java\"))\n",
    "subprocess.run([\"java\", \"-version\"])\n",
    "\n",
    "# Run PaDEL\n",
    "smi_file = os.path.join(os.getcwd(), \"molecule.smi\")\n",
    "\n",
    "padeldescriptor(\n",
    "    mol_dir=smi_file,\n",
    "    d_file=\"descriptors_output.csv\",\n",
    "    fingerprints=True\n",
    ")\n",
    "\n",
    "print(\"✅ descriptors_output.csv created successfully.\")\n",
    "print(\"📄 Files in directory:\", os.listdir())"
   ]
  },
  {
   "cell_type": "code",
   "execution_count": 8,
   "metadata": {
    "colab": {
     "base_uri": "https://localhost:8080/",
     "height": 1000
    },
    "colab_type": "code",
    "id": "64HnTL4tS-nA",
    "outputId": "b082c979-db9f-48dd-8050-0462b6cf4979"
   },
   "outputs": [
    {
     "name": "stdout",
     "output_type": "stream",
     "text": [
      "✅ padelpy installed\n"
     ]
    }
   ],
   "source": [
    "import pandas as pd\n",
    "\n",
    "df3_X = pd.read_csv(\"descriptors_output.csv\")\n",
    "\n",
    "# Drop 'Name' if present (to avoid duplicate on merge later)\n",
    "if \"Name\" in df3_X.columns:\n",
    "    df3_X = df3_X.drop(columns=[\"Name\"])\n",
    "\n",
    "print(\"✅ Descriptors shape:\", df3_X.shape)\n",
    "df3_X.head()"
   ]
  },
  {
   "cell_type": "code",
   "execution_count": 9,
   "metadata": {
    "scrolled": true
   },
   "outputs": [
    {
     "name": "stdout",
     "output_type": "stream",
     "text": [
      "✅ Downloaded: padel.zip\n",
      "✅ Downloaded: padel.sh\n"
     ]
    }
   ],
   "source": [
    "import pandas as pd\n",
    "\n",
    "# Rebuild the same 'Name' we used in molecule.smi\n",
    "df_labels = df_source[[id_col]].copy()\n",
    "df_labels = df_labels.rename(columns={id_col: \"Name\"})\n",
    "\n",
    "# Bring over activity columns if present\n",
    "for cand in [\"class\", \"pIC50\", \"pic50\", \"activity_class\"]:\n",
    "    if cand in df_source.columns:\n",
    "        df_labels[cand] = df_source[cand]\n",
    "\n",
    "# Ensure 'Name' exists for merge key\n",
    "if \"Name\" not in df_labels.columns:\n",
    "    raise SystemExit(\"❌ Could not construct 'Name' column for labels table.\")\n",
    "\n",
    "print(\"✅ Labels preview:\")\n",
    "df_labels.head()"
   ]
  },
  {
   "cell_type": "code",
   "execution_count": null,
   "metadata": {},
   "outputs": [],
   "source": [
    "import pandas as pd\n",
    "\n",
    "# Re-load descriptors WITH 'Name' to merge properly, then drop afterward\n",
    "dfX_full = pd.read_csv(\"descriptors_output.csv\")\n",
    "if \"Name\" not in dfX_full.columns:\n",
    "    raise SystemExit(\"❌ 'Name' column missing in descriptors_output.csv (unexpected).\")\n",
    "\n",
    "dataset3 = pd.merge(dfX_full, df_labels, on=\"Name\", how=\"inner\")\n",
    "\n",
    "# Now drop Name column if you don't need it further\n",
    "if \"Name\" in dataset3.columns:\n",
    "    dataset3 = dataset3.drop(columns=[\"Name\"])\n",
    "\n",
    "OUT_FINAL = \"acetylcholinesterase_06_bioactivity_data_3class_pIC50_pubchem_fp.csv\"\n",
    "dataset3.to_csv(OUT_FINAL, index=False)\n",
    "\n",
    "print(\"✅ Final dataset saved:\", OUT_FINAL)\n",
    "print(\"🧮 Shape:\", dataset3.shape)\n",
    "dataset3.head()"
   ]
  },
  {
   "cell_type": "code",
   "execution_count": null,
   "metadata": {},
   "outputs": [],
   "source": [
    "# Windows-compatible dir listing (handy confirmation)\n",
    "!dir"
   ]
  },
  {
   "cell_type": "markdown",
   "metadata": {
    "colab_type": "text",
    "id": "QmxXXFa4wTNG"
   },
   "source": [
    "## **Load bioactivity data**"
   ]
  },
  {
   "cell_type": "markdown",
   "metadata": {
    "colab_type": "text",
    "id": "fcBvxkPWKFRV"
   },
   "source": [
    "Download the curated ChEMBL bioactivity data that has been pre-processed from Parts 1 and 2 of this Bioinformatics Project series. Here we will be using the **bioactivity_data_3class_pIC50.csv** file that essentially contain the pIC50 values that we will be using for building a regression model."
   ]
  },
  {
   "cell_type": "code",
   "execution_count": null,
   "metadata": {
    "colab": {
     "base_uri": "https://localhost:8080/",
     "height": 208
    },
    "colab_type": "code",
    "id": "JBs7QdJoubWC",
    "outputId": "3d6bfdcd-1eb9-4930-8e43-45d217f7d22b"
   },
   "outputs": [],
   "source": [
    "import requests\n",
    "\n",
    "url = \"https://raw.githubusercontent.com/dataprofessor/data/master/acetylcholinesterase_04_bioactivity_data_3class_pIC50.csv\"\n",
    "filename = \"acetylcholinesterase_04_bioactivity_data_3class_pIC50.csv\"\n",
    "\n",
    "r = requests.get(url)\n",
    "with open(filename, \"wb\") as f:\n",
    "    f.write(r.content)\n",
    "\n",
    "print(f\"✅ Downloaded dataset: {filename}\")"
   ]
  },
  {
   "cell_type": "code",
   "execution_count": null,
   "metadata": {
    "colab": {},
    "colab_type": "code",
    "id": "Fpu5C7HlwV9s"
   },
   "outputs": [],
   "source": [
    "import pandas as pd"
   ]
  },
  {
   "cell_type": "code",
   "execution_count": null,
   "metadata": {
    "colab": {},
    "colab_type": "code",
    "id": "GCcE8J5XwjtB"
   },
   "outputs": [],
   "source": [
    "import os\n",
    "\n",
    "# If the file was downloaded in the same folder as the notebook:\n",
    "df3 = pd.read_csv('acetylcholinesterase_04_bioactivity_data_3class_pIC50.csv')\n",
    "\n",
    "# If that fails, uncomment the line below and use the absolute path instead:\n",
    "# df3 = pd.read_csv(r\"C:\\Users\\uddin\\Documents\\first_repo\\bioinformatics_freecodecamp\\acetylcholinesterase_04_bioactivity_data_3class_pIC50.csv\")\n",
    "\n",
    "print(\"✅ File loaded successfully\")\n",
    "df3.head()"
   ]
  },
  {
   "cell_type": "code",
   "execution_count": null,
   "metadata": {
    "colab": {
     "base_uri": "https://localhost:8080/",
     "height": 467
    },
    "colab_type": "code",
    "id": "60z_N6egNiSJ",
    "outputId": "4419acc9-ced7-4a45-b849-665ed5e0fd99"
   },
   "outputs": [],
   "source": [
    "df3"
   ]
  },
  {
   "cell_type": "code",
   "execution_count": null,
   "metadata": {
    "colab": {},
    "colab_type": "code",
    "id": "BJDJkY43R-9F"
   },
   "outputs": [],
   "source": [
    "selection = ['canonical_smiles','molecule_chembl_id']\n",
    "df3_selection = df3[selection]\n",
    "df3_selection.to_csv('molecule.smi', sep='\\t', index=False, header=False)"
   ]
  },
  {
   "cell_type": "code",
   "execution_count": null,
   "metadata": {
    "colab": {
     "base_uri": "https://localhost:8080/",
     "height": 104
    },
    "colab_type": "code",
    "id": "nRSCoPVDSkf5",
    "outputId": "2be43c1d-d8b8-42a8-93fc-4c1b29855a8a"
   },
   "outputs": [],
   "source": [
    "# Show first 5 lines of molecule.smi\n",
    "with open(\"molecule.smi\", \"r\") as f:\n",
    "    for i in range(5):\n",
    "        print(f.readline().strip())"
   ]
  },
  {
   "cell_type": "code",
   "execution_count": null,
   "metadata": {
    "colab": {
     "base_uri": "https://localhost:8080/",
     "height": 35
    },
    "colab_type": "code",
    "id": "GlYaJ9pzUGjS",
    "outputId": "6dab2be5-172a-4efb-8b42-7ceef402bfa3"
   },
   "outputs": [],
   "source": [
    "# Count total lines in molecule.smi\n",
    "with open(\"molecule.smi\", \"r\") as f:\n",
    "    count = sum(1 for _ in f)\n",
    "print(f\"📄 Total lines in molecule.smi: {count}\")"
   ]
  },
  {
   "cell_type": "markdown",
   "metadata": {
    "colab_type": "text",
    "id": "YzN_S4Quro5S"
   },
   "source": [
    "## **Calculate fingerprint descriptors**\n"
   ]
  },
  {
   "cell_type": "markdown",
   "metadata": {
    "colab_type": "text",
    "id": "JsgTV-ByxdMa"
   },
   "source": [
    "### **Calculate PaDEL descriptors**"
   ]
  },
  {
   "cell_type": "code",
   "execution_count": null,
   "metadata": {
    "colab": {
     "base_uri": "https://localhost:8080/",
     "height": 55
    },
    "colab_type": "code",
    "id": "hSCopQvEiSMj",
    "outputId": "77fe3614-69ef-4bd1-9dca-2a9b2c975fbb"
   },
   "outputs": [],
   "source": [
    "# Print padel.sh file contents\n",
    "with open(\"padel.sh\", \"r\") as f:\n",
    "    print(f.read())"
   ]
  },
  {
   "cell_type": "code",
   "execution_count": null,
   "metadata": {
    "colab": {
     "base_uri": "https://localhost:8080/",
     "height": 1000
    },
    "colab_type": "code",
    "id": "6kN9jrGpS5nE",
    "outputId": "456a4161-b3dd-44b9-bc82-2523976f25ea"
   },
   "outputs": [],
   "source": [
    "import subprocess\n",
    "import os\n",
    "\n",
    "padel_dir = os.path.join(os.getcwd(), \"padel\")\n",
    "cmd = [\n",
    "    \"java\",\n",
    "    \"-Xms2G\",\n",
    "    \"-Xmx2G\",\n",
    "    \"-Djava.awt.headless=true\",\n",
    "    \"-jar\",\n",
    "    os.path.join(padel_dir, \"PaDEL-Descriptor.jar\"),\n",
    "    \"-removesalt\",\n",
    "    \"-standardizenitro\",\n",
    "    \"-fingerprints\",\n",
    "    \"-descriptortypes\",\n",
    "    os.path.join(padel_dir, \"PubchemFingerprinter.xml\"),\n",
    "    \"-dir\",\n",
    "    os.getcwd(),\n",
    "    \"-file\",\n",
    "    \"descriptors_output.csv\"\n",
    "]\n",
    "\n",
    "subprocess.run(cmd)"
   ]
  },
  {
   "cell_type": "code",
   "execution_count": null,
   "metadata": {
    "colab": {
     "base_uri": "https://localhost:8080/",
     "height": 173
    },
    "colab_type": "code",
    "id": "2p7rAVy_k_hH",
    "outputId": "7404029f-4d69-486c-97a2-faf6d4574971"
   },
   "outputs": [],
   "source": [
    "!dir"
   ]
  },
  {
   "cell_type": "markdown",
   "metadata": {
    "colab_type": "text",
    "id": "gUMlPfFrxicj"
   },
   "source": [
    "## **Preparing the X and Y Data Matrices**"
   ]
  },
  {
   "cell_type": "markdown",
   "metadata": {
    "colab_type": "text",
    "id": "30aa4WP4ZA8M"
   },
   "source": [
    "### **X data matrix**"
   ]
  },
  {
   "cell_type": "code",
   "execution_count": null,
   "metadata": {
    "colab": {},
    "colab_type": "code",
    "id": "3g319qxVl7tY",
    "scrolled": true
   },
   "outputs": [],
   "source": [
    "import pandas as pd\n",
    "import os\n",
    "\n",
    "print(os.listdir())  # check if file exists in working dir\n",
    "\n",
    "df3_X = pd.read_csv('descriptors_output.csv')\n",
    "print(\"✅ descriptors_output.csv loaded\")\n",
    "df3_X.head()"
   ]
  },
  {
   "cell_type": "code",
   "execution_count": null,
   "metadata": {
    "colab": {
     "base_uri": "https://localhost:8080/",
     "height": 435
    },
    "colab_type": "code",
    "id": "hBp1PTObFQDd",
    "outputId": "26a4603a-d1b2-4d64-e1c8-cf5fd0612bbf"
   },
   "outputs": [],
   "source": [
    "df3_X"
   ]
  },
  {
   "cell_type": "code",
   "execution_count": null,
   "metadata": {
    "colab": {
     "base_uri": "https://localhost:8080/",
     "height": 435
    },
    "colab_type": "code",
    "id": "dTJsDPBKq_hr",
    "outputId": "c92c4d7d-6df7-40b0-a7b8-ce644bacb52a"
   },
   "outputs": [],
   "source": [
    "if 'Name' in df3_X.columns:\n",
    "    df3_X = df3_X.drop(columns=['Name'])\n",
    "    print(\"✅ Dropped column: Name\")\n",
    "else:\n",
    "    print(\"⚠️ Column 'Name' not found — skipping\")\n",
    "\n",
    "df3_X.head()"
   ]
  },
  {
   "cell_type": "markdown",
   "metadata": {
    "colab_type": "text",
    "id": "6ePu814KZNBG"
   },
   "source": [
    "## **Y variable**"
   ]
  },
  {
   "cell_type": "markdown",
   "metadata": {
    "colab_type": "text",
    "id": "9ssfxFCdr7ua"
   },
   "source": [
    "### **Convert IC50 to pIC50**"
   ]
  },
  {
   "cell_type": "code",
   "execution_count": null,
   "metadata": {
    "colab": {
     "base_uri": "https://localhost:8080/",
     "height": 225
    },
    "colab_type": "code",
    "id": "FlhsSEW5FXTG",
    "outputId": "ef224d6b-4cf3-4bde-fe83-d2e43f6e246c"
   },
   "outputs": [],
   "source": [
    "df3_Y = df3['pIC50']\n",
    "df3_Y"
   ]
  },
  {
   "cell_type": "markdown",
   "metadata": {
    "colab_type": "text",
    "id": "eET6iZ1Aw3oe"
   },
   "source": [
    "## **Combining X and Y variable**"
   ]
  },
  {
   "cell_type": "code",
   "execution_count": null,
   "metadata": {
    "colab": {
     "base_uri": "https://localhost:8080/",
     "height": 435
    },
    "colab_type": "code",
    "id": "FRBfBP3QxFJp",
    "outputId": "ee900c26-ff5c-4e20-a3fb-7b1f9367db66"
   },
   "outputs": [],
   "source": [
    "dataset3 = pd.concat([df3_X, df3_Y], axis=1)\n",
    "dataset3.head()"
   ]
  },
  {
   "cell_type": "code",
   "execution_count": null,
   "metadata": {
    "colab": {},
    "colab_type": "code",
    "id": "75npGyvhae0e"
   },
   "outputs": [],
   "source": [
    "dataset3.to_csv('acetylcholinesterase_06_bioactivity_data_3class_pIC50_pubchem_fp.csv', index=False)\n",
    "print(\"✅ File saved successfully\")"
   ]
  },
  {
   "cell_type": "markdown",
   "metadata": {
    "colab_type": "text",
    "id": "nFpLoNRHeRa6"
   },
   "source": [
    "# **Let's download the CSV file to your local computer for the Part 3B (Model Building).**"
   ]
  }
 ],
 "metadata": {
  "colab": {
   "collapsed_sections": [],
   "name": "CDD-ML-Part-3-Acetylcholinesterase-Descriptor-Dataset-Preparation.ipynb",
   "provenance": []
  },
  "kernelspec": {
   "display_name": "Python [conda env:base] *",
   "language": "python",
   "name": "conda-base-py"
  },
  "language_info": {
   "codemirror_mode": {
    "name": "ipython",
    "version": 3
   },
   "file_extension": ".py",
   "mimetype": "text/x-python",
   "name": "python",
   "nbconvert_exporter": "python",
   "pygments_lexer": "ipython3",
   "version": "3.13.5"
  }
 },
 "nbformat": 4,
 "nbformat_minor": 4
}
